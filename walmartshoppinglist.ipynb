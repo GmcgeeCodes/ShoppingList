{
 "cells": [
  {
   "cell_type": "code",
   "execution_count": 1,
   "id": "8054f5b1",
   "metadata": {},
   "outputs": [],
   "source": [
    "shoppingL = []\n",
    "bfast, fruit = \"Breakfast\", \"fruit\"\n",
    "lunch = \"Lunch\"\n",
    "dinner = \"Dinner\"\n",
    "snack = \"Snack\"\n",
    "mult = \"mult\"\n",
    "burger, hdog, chili, roast, drink, mw, taco = \"burger\", \"hdog\", \"chili\" ,\"roast\",\"drink\", \"mw\", \"taco\"\n",
    "ss = \"ss\"\n",
    "other = \"other\"\n",
    "\n"
   ]
  },
  {
   "cell_type": "code",
   "execution_count": 2,
   "id": "9c0adca9",
   "metadata": {},
   "outputs": [],
   "source": [
    "# Function to add new Item to list \n",
    "def newItem(aisle: str, name: str, need: bool = False, count: int = 1, fType: str = 'mult') -> tuple:\n",
    "    firstChar, secondChar = aisle[0], int(aisle[1:])\n",
    "    sortNum = ord(firstChar) + secondChar\n",
    "    return (firstChar, secondChar, name, sortNum, need, count, fType)"
   ]
  },
  {
   "cell_type": "code",
   "execution_count": 3,
   "id": "631d6a35",
   "metadata": {},
   "outputs": [],
   "source": [
    "def Sort_Tuple(tup): \n",
    "    # reverse = None (Sorts in Ascending order) \n",
    "    # key is set to sort using second element of \n",
    "    # sublist lambda has been used \n",
    "    tup.sort(key = lambda x: x[3]) \n",
    "    return tup "
   ]
  },
  {
   "cell_type": "code",
   "execution_count": 4,
   "id": "6de770a5",
   "metadata": {},
   "outputs": [],
   "source": [
    "def needTuple(b: bool, tup: tuple):\n",
    "    nt = []\n",
    "    for i in range (size(tup)):\n",
    "        if(b ==  tup[i][4]):\n",
    "            nt.append(tup[i])\n",
    "    return nt"
   ]
  },
  {
   "cell_type": "code",
   "execution_count": 5,
   "id": "04f31783",
   "metadata": {},
   "outputs": [],
   "source": [
    "def categoryTuple(name : str, tup: tuple):\n",
    "    ct = []\n",
    "    for i in range (size(tup)):\n",
    "        if(name ==  tup[i][6]):\n",
    "            ct.append(tup[i])\n",
    "    return ct"
   ]
  },
  {
   "cell_type": "code",
   "execution_count": 6,
   "id": "da1c3474",
   "metadata": {},
   "outputs": [],
   "source": [
    "def size(tlist):\n",
    "    return len(tlist)"
   ]
  },
  {
   "cell_type": "code",
   "execution_count": 7,
   "id": "3d84b53b",
   "metadata": {},
   "outputs": [],
   "source": [
    "# Breakfast foods\n",
    "shoppingL.append(newItem(\"A8\", \"Cinnamon Raisin Bagels\", False, 0, bfast))\n",
    "shoppingL.append(newItem(\"A39\", \"Oscar Meyer Turkey Bacon\", False, 0, bfast))\n",
    "shoppingL.append(newItem(\"A39\", \"Regular bacon\", False, 0, bfast))\n",
    "shoppingL.append(newItem(\"A17\", \"Mccormick Basil Leaves\", False, 0, bfast))\n",
    "shoppingL.append(newItem(\"A18\", \"Quaker Instant Oatmeal: A&C\", False, 0, bfast))\n",
    "shoppingL.append(newItem(\"A38\", \"Fage Yogurt 2%\", False, 0, bfast))\n",
    "shoppingL.append(newItem(\"A38\", \"Fage Yogurt 5%\", False, 0, bfast))\n",
    "shoppingL.append(newItem(\"A28\", \"Philadelphia: Blueberry Cream Cheese\", False, 0, bfast))\n",
    "shoppingL.append(newItem(\"A28\", \"Philadeplhia: Original Cream Cheese\", False, 0, bfast))\n",
    "shoppingL.append(newItem(\"A28\", \"Eggs\", False, 0, bfast))\n",
    "shoppingL.append(newItem(\"A28\", \"Blueberry Biscuits\", False, 0, bfast))\n",
    "shoppingL.append(newItem(\"A3\", \"Banquet Sausage\", False, 0, bfast))\n",
    "shoppingL.append(newItem(\"A39\", \"Bob Evans Sausage\", False, 0, bfast))\n",
    "shoppingL.append(newItem(\"A17\", \"Pancake Mix\", False, 0, bfast))\n",
    "shoppingL.append(newItem(\"A17\", \"Syrup\", False, 0, bfast))\n",
    "shoppingL.append(newItem(\"A18\", \"Strawberry Pop Tarts\", False, 0, bfast))\n",
    "shoppingL.append(newItem(\"A18\", \"Chocalte Chip Granola\", False, 0, bfast))\n",
    "shoppingL.append(newItem(\"A19\", \"Frosted Mini Wheats Orig\", False, 0, bfast))\n",
    "shoppingL.append(newItem(\"A19\", \"Frosted Mini Wheats Orig\", False, 0, bfast))\n",
    "shoppingL.append(newItem(\"A19\", \"Frosted Flakes\", False, 0, bfast))\n",
    "shoppingL.append(newItem(\"A19\", \"Trix\", False, 0, bfast))"
   ]
  },
  {
   "cell_type": "code",
   "execution_count": 8,
   "id": "714523ac",
   "metadata": {},
   "outputs": [],
   "source": [
    "# Mult foods \n",
    "shoppingL.append(newItem(\"A39\", \"Buddig Sliced Honey\", False, 0, mult))\n",
    "shoppingL.append(newItem(\"A16\", \"Pan Spray\", False, 0, mult))\n",
    "shoppingL.append(newItem(\"A16\", \"Oil\", False, 0, mult))\n",
    "shoppingL.append(newItem(\"A8\", \"Hawaiin Sweet Rolls\", False, 0, mult))\n",
    "shoppingL.append(newItem(\"A42\", \"Salad\", False, 0, mult))\n",
    "shoppingL.append(newItem(\"A1\", \"Naked Smoothie\", False, 0, mult))\n",
    "shoppingL.append(newItem(\"A1\", \"Spinach\", False, 0, mult))\n",
    "shoppingL.append(newItem(\"A1\", \"Onions\", False, 0, mult))\n",
    "shoppingL.append(newItem(\"A16\", \"Chocalte Chips\", False, 0, mult))\n",
    "shoppingL.append(newItem(\"A16\", \"White Chocalte Chips\", False, 0, mult))\n",
    "shoppingL.append(newItem(\"A28\", \"Butter\", False, 0, mult))\n",
    "shoppingL.append(newItem(\"A38\", \"Whip Cream\", False, 0, mult))\n",
    "\n",
    "# Lunch foods\n",
    "shoppingL.append(newItem(\"A1\", \"Chicken Wraps\", False, 0, lunch))\n",
    "shoppingL.append(newItem(\"A8\", \"Sara Lee Honey Wheat Bread\", False, 0, lunch))\n",
    "shoppingL.append(newItem(\"A1\", \"Guacomole\", False, 0, lunch))"
   ]
  },
  {
   "cell_type": "code",
   "execution_count": 9,
   "id": "6224c610",
   "metadata": {},
   "outputs": [],
   "source": [
    "# Hamburger\n",
    "shoppingL.append(newItem(\"A8\", \"Hamburger Buns\", False, 0, burger))\n",
    "shoppingL.append(newItem(\"A40\", \"Ground Beef\", False, 0, burger))\n",
    "shoppingL.append(newItem(\"A17\", \"Gourmet Burger Seasoning\", False, 0, burger))\n",
    "shoppingL.append(newItem(\"A1\", \"Lettuce\", False, 0, burger))\n",
    "shoppingL.append(newItem(\"A1\", \"Tomato\", False, 0, burger))\n",
    "shoppingL.append(newItem(\"A39\", \"Cheese\", False, 0, burger))\n",
    "\n",
    "#hotdog \n",
    "shoppingL.append(newItem(\"A8\", \"Hotdog Buns\", False, 0, hdog))\n",
    "shoppingL.append(newItem(\"A39\", \" Oscar Meyer Hotdog\", False, 0, hdog))\n",
    "\n",
    "#chili\n",
    "shoppingL.append(newItem(\"A11\", \"Chili\", False, 0, chili))\n",
    "\n",
    "#Taco\n",
    "shoppingL.append(newItem(\"A1\", \"Tomato:taco\", False, 0, taco))\n",
    "shoppingL.append(newItem(\"A39\", \"Chicken Breasts:taco\", False, 0, taco))\n",
    "shoppingL.append(newItem(\"A1\", \"Mixed Lettuce:taco\", False, 0, taco))\n",
    "shoppingL.append(newItem(\"A11\", \"mcormick mild taco mix\", False, 0, taco))\n",
    "shoppingL.append(newItem(\"A1\", \"Onions:taco\", False, 0, taco))\n",
    "shoppingL.append(newItem(\"A1\", \"taco cheese\", False, 0, taco))\n",
    "shoppingL.append(newItem(\"A12\", \"taco shells soft/hard\", False, 0, taco))\n",
    "shoppingL.append(newItem(\"A12\", \"Ortega Taco sauce: thick&smooth\", False, 0, taco))\n",
    "shoppingL.append(newItem(\"A40\", \"Taco Meat Chicken\", False, 0, taco))\n",
    "\n",
    "\n",
    "#Mandywich\n",
    "shoppingL.append(newItem(\"A1\", \"Tomato:Mw\", False, 0, mw))\n",
    "shoppingL.append(newItem(\"A15\", \"Basil Pesto Sauce\", False, 0, mw))\n",
    "shoppingL.append(newItem(\"A17\", \"Basil Leaves\", False, 0, mw))\n",
    "shoppingL.append(newItem(\"A40\", \"Mw Meat\", False, 0, mw))\n",
    "shoppingL.append(newItem(\"A28\", \"I cant believe ..\", False, 0, mw))\n",
    "shoppingL.append(newItem(\"A40\", \"Mozzarella Cheese\", False, 0, mw))\n",
    "shoppingL.append(newItem(\"A8\", \"SourDough Bread\", False, 0, mw))\n",
    "\n",
    "#Roast\n",
    "shoppingL.append(newItem(\"A40\", \"Roast\", False, 0, roast))"
   ]
  },
  {
   "cell_type": "code",
   "execution_count": 10,
   "id": "57b6103c",
   "metadata": {},
   "outputs": [],
   "source": [
    "# Dinner \n",
    "shoppingL.append(newItem(\"A42\", \"Rotisserie Chicken\", False, 0, dinner))\n",
    "shoppingL.append(newItem(\"A13\", \"Black Beans\", False, 0, dinner))\n",
    "shoppingL.append(newItem(\"A15\", \"Easy Mac\", False, 0, dinner))\n",
    "shoppingL.append(newItem(\"A15\", \"Pasta\", False, 0, dinner))\n",
    "shoppingL.append(newItem(\"A40\", \"Tyson pre cooked breast strips\", False, 0, dinner))\n",
    "shoppingL.append(newItem(\"A40\", \"Pulled Chicken\", False, 0, dinner))\n",
    "shoppingL.append(newItem(\"A39\", \"Chicken Breasts\", False, 0, dinner))\n",
    "shoppingL.append(newItem(\"A6\", \"Frozen Vegetables\", False, 0, dinner))\n",
    "shoppingL.append(newItem(\"A40\", \"French Fries\", False, 0, dinner))\n",
    "\n",
    "# Seasonings and sauces\n",
    "shoppingL.append(newItem(\"A11\", \"Marinade\", False, 0, ss))\n",
    "shoppingL.append(newItem(\"A15\", \"Pasta Sauce\", False, 0, ss))\n",
    "shoppingL.append(newItem(\"A17\", \"Lemon Pepper Seasoning\", False, 0, ss))\n",
    "shoppingL.append(newItem(\"A11\", \"BBQ sauce\", False, 0, ss))\n",
    "shoppingL.append(newItem(\"A11\", \"Mayo\", False, 0, ss))\n",
    "shoppingL.append(newItem(\"A11\", \"Ranch\", False, 0, ss))\n",
    "shoppingL.append(newItem(\"A17\", \"Basil Leaves\", False, 0, ss))\n",
    "\n",
    "# Fruit\n",
    "shoppingL.append(newItem(\"A1\", \"Apples\", False, 0, fruit))\n",
    "shoppingL.append(newItem(\"A1\", \"Blueberries\", False, 0, fruit))\n",
    "shoppingL.append(newItem(\"A1\", \"Strawberries\", False, 0, fruit))\n",
    "shoppingL.append(newItem(\"A1\", \"Banana\", False, 0, fruit))\n",
    "shoppingL.append(newItem(\"A1\", \"Cuties\", False, 0, fruit))\n",
    "\n",
    "#snack\n",
    "shoppingL.append(newItem(\"A18\", \"Protein Bars\", False, 0, snack))\n",
    "shoppingL.append(newItem(\"A42\", \"Muffins\", False, 0, snack))\n",
    "shoppingL.append(newItem(\"A28\", \"Cookie Dough\", False, 0, snack))\n",
    "shoppingL.append(newItem(\"A41\", \"Donuts\", False, 0, snack))\n",
    "\n",
    "\n",
    "# Drinks\n",
    "shoppingL.append(newItem(\"A28\", \"Orange Juice\", False, 0, drink))\n",
    "shoppingL.append(newItem(\"A28\", \"Tropicana\", False, 0, drink))\n",
    "shoppingL.append(newItem(\"A38\", \"Milk\", False, 0, drink))\n",
    "shoppingL.append(newItem(\"A35\", \"Water\", False, 0, drink))\n",
    "\n",
    "#Other \n",
    "shoppingL.append(newItem(\"A16\", \"Apple Cider Vinegar\", False, 0, other))\n",
    "shoppingL.append(newItem(\"Z32\", \"Batteries\", False, 0, other))\n",
    "shoppingL.append(newItem(\"A17\", \"Baking Soda\", False, 0, other))\n"
   ]
  },
  {
   "cell_type": "code",
   "execution_count": 11,
   "id": "455ee327",
   "metadata": {},
   "outputs": [],
   "source": [
    "#Sort_Tuple(bfastlist)\n",
    "sortedt = Sort_Tuple(shoppingL)"
   ]
  },
  {
   "cell_type": "code",
   "execution_count": 12,
   "id": "2fd1ede6",
   "metadata": {},
   "outputs": [
    {
     "data": {
      "text/plain": [
       "[('A', 1, 'Naked Smoothie', 66, False, 0, 'mult'),\n",
       " ('A', 1, 'Spinach', 66, False, 0, 'mult'),\n",
       " ('A', 1, 'Onions', 66, False, 0, 'mult'),\n",
       " ('A', 1, 'Chicken Wraps', 66, False, 0, 'Lunch'),\n",
       " ('A', 1, 'Guacomole', 66, False, 0, 'Lunch'),\n",
       " ('A', 1, 'Lettuce', 66, False, 0, 'burger'),\n",
       " ('A', 1, 'Tomato', 66, False, 0, 'burger'),\n",
       " ('A', 1, 'Tomato:taco', 66, False, 0, 'taco'),\n",
       " ('A', 1, 'Mixed Lettuce:taco', 66, False, 0, 'taco'),\n",
       " ('A', 1, 'Onions:taco', 66, False, 0, 'taco'),\n",
       " ('A', 1, 'taco cheese', 66, False, 0, 'taco'),\n",
       " ('A', 1, 'Tomato:Mw', 66, False, 0, 'mw'),\n",
       " ('A', 1, 'Apples', 66, False, 0, 'fruit'),\n",
       " ('A', 1, 'Blueberries', 66, False, 0, 'fruit'),\n",
       " ('A', 1, 'Strawberries', 66, False, 0, 'fruit'),\n",
       " ('A', 1, 'Banana', 66, False, 0, 'fruit'),\n",
       " ('A', 1, 'Cuties', 66, False, 0, 'fruit'),\n",
       " ('A', 3, 'Banquet Sausage', 68, False, 0, 'Breakfast'),\n",
       " ('A', 6, 'Frozen Vegetables', 71, False, 0, 'Dinner'),\n",
       " ('A', 8, 'Cinnamon Raisin Bagels', 73, False, 0, 'Breakfast'),\n",
       " ('A', 8, 'Hawaiin Sweet Rolls', 73, False, 0, 'mult'),\n",
       " ('A', 8, 'Sara Lee Honey Wheat Bread', 73, False, 0, 'Lunch'),\n",
       " ('A', 8, 'Hamburger Buns', 73, False, 0, 'burger'),\n",
       " ('A', 8, 'Hotdog Buns', 73, False, 0, 'hdog'),\n",
       " ('A', 8, 'SourDough Bread', 73, False, 0, 'mw'),\n",
       " ('A', 11, 'Chili', 76, False, 0, 'chili'),\n",
       " ('A', 11, 'mcormick mild taco mix', 76, False, 0, 'taco'),\n",
       " ('A', 11, 'Marinade', 76, False, 0, 'ss'),\n",
       " ('A', 11, 'BBQ sauce', 76, False, 0, 'ss'),\n",
       " ('A', 11, 'Mayo', 76, False, 0, 'ss'),\n",
       " ('A', 11, 'Ranch', 76, False, 0, 'ss'),\n",
       " ('A', 12, 'taco shells soft/hard', 77, False, 0, 'taco'),\n",
       " ('A', 12, 'Ortega Taco sauce: thick&smooth', 77, False, 0, 'taco'),\n",
       " ('A', 13, 'Black Beans', 78, False, 0, 'Dinner'),\n",
       " ('A', 15, 'Basil Pesto Sauce', 80, False, 0, 'mw'),\n",
       " ('A', 15, 'Easy Mac', 80, False, 0, 'Dinner'),\n",
       " ('A', 15, 'Pasta', 80, False, 0, 'Dinner'),\n",
       " ('A', 15, 'Pasta Sauce', 80, False, 0, 'ss'),\n",
       " ('A', 16, 'Pan Spray', 81, False, 0, 'mult'),\n",
       " ('A', 16, 'Oil', 81, False, 0, 'mult'),\n",
       " ('A', 16, 'Chocalte Chips', 81, False, 0, 'mult'),\n",
       " ('A', 16, 'White Chocalte Chips', 81, False, 0, 'mult'),\n",
       " ('A', 16, 'Apple Cider Vinegar', 81, False, 0, 'other'),\n",
       " ('A', 17, 'Mccormick Basil Leaves', 82, False, 0, 'Breakfast'),\n",
       " ('A', 17, 'Pancake Mix', 82, False, 0, 'Breakfast'),\n",
       " ('A', 17, 'Syrup', 82, False, 0, 'Breakfast'),\n",
       " ('A', 17, 'Gourmet Burger Seasoning', 82, False, 0, 'burger'),\n",
       " ('A', 17, 'Basil Leaves', 82, False, 0, 'mw'),\n",
       " ('A', 17, 'Lemon Pepper Seasoning', 82, False, 0, 'ss'),\n",
       " ('A', 17, 'Basil Leaves', 82, False, 0, 'ss'),\n",
       " ('A', 17, 'Baking Soda', 82, False, 0, 'other'),\n",
       " ('A', 18, 'Quaker Instant Oatmeal: A&C', 83, False, 0, 'Breakfast'),\n",
       " ('A', 18, 'Strawberry Pop Tarts', 83, False, 0, 'Breakfast'),\n",
       " ('A', 18, 'Chocalte Chip Granola', 83, False, 0, 'Breakfast'),\n",
       " ('A', 18, 'Protein Bars', 83, False, 0, 'Snack'),\n",
       " ('A', 19, 'Frosted Mini Wheats Orig', 84, False, 0, 'Breakfast'),\n",
       " ('A', 19, 'Frosted Mini Wheats Orig', 84, False, 0, 'Breakfast'),\n",
       " ('A', 19, 'Frosted Flakes', 84, False, 0, 'Breakfast'),\n",
       " ('A', 19, 'Trix', 84, False, 0, 'Breakfast'),\n",
       " ('A', 28, 'Philadelphia: Blueberry Cream Cheese', 93, False, 0, 'Breakfast'),\n",
       " ('A', 28, 'Philadeplhia: Original Cream Cheese', 93, False, 0, 'Breakfast'),\n",
       " ('A', 28, 'Eggs', 93, False, 0, 'Breakfast'),\n",
       " ('A', 28, 'Blueberry Biscuits', 93, False, 0, 'Breakfast'),\n",
       " ('A', 28, 'Butter', 93, False, 0, 'mult'),\n",
       " ('A', 28, 'I cant believe ..', 93, False, 0, 'mw'),\n",
       " ('A', 28, 'Cookie Dough', 93, False, 0, 'Snack'),\n",
       " ('A', 28, 'Orange Juice', 93, False, 0, 'drink'),\n",
       " ('A', 28, 'Tropicana', 93, False, 0, 'drink'),\n",
       " ('A', 35, 'Water', 100, False, 0, 'drink'),\n",
       " ('A', 38, 'Fage Yogurt 2%', 103, False, 0, 'Breakfast'),\n",
       " ('A', 38, 'Fage Yogurt 5%', 103, False, 0, 'Breakfast'),\n",
       " ('A', 38, 'Whip Cream', 103, False, 0, 'mult'),\n",
       " ('A', 38, 'Milk', 103, False, 0, 'drink'),\n",
       " ('A', 39, 'Oscar Meyer Turkey Bacon', 104, False, 0, 'Breakfast'),\n",
       " ('A', 39, 'Regular bacon', 104, False, 0, 'Breakfast'),\n",
       " ('A', 39, 'Bob Evans Sausage', 104, False, 0, 'Breakfast'),\n",
       " ('A', 39, 'Buddig Sliced Honey', 104, False, 0, 'mult'),\n",
       " ('A', 39, 'Cheese', 104, False, 0, 'burger'),\n",
       " ('A', 39, ' Oscar Meyer Hotdog', 104, False, 0, 'hdog'),\n",
       " ('A', 39, 'Chicken Breasts:taco', 104, False, 0, 'taco'),\n",
       " ('A', 39, 'Chicken Breasts', 104, False, 0, 'Dinner'),\n",
       " ('A', 40, 'Ground Beef', 105, False, 0, 'burger'),\n",
       " ('A', 40, 'Taco Meat Chicken', 105, False, 0, 'taco'),\n",
       " ('A', 40, 'Mw Meat', 105, False, 0, 'mw'),\n",
       " ('A', 40, 'Mozzarella Cheese', 105, False, 0, 'mw'),\n",
       " ('A', 40, 'Roast', 105, False, 0, 'roast'),\n",
       " ('A', 40, 'Tyson pre cooked breast strips', 105, False, 0, 'Dinner'),\n",
       " ('A', 40, 'Pulled Chicken', 105, False, 0, 'Dinner'),\n",
       " ('A', 40, 'French Fries', 105, False, 0, 'Dinner'),\n",
       " ('A', 41, 'Donuts', 106, False, 0, 'Snack'),\n",
       " ('A', 42, 'Salad', 107, False, 0, 'mult'),\n",
       " ('A', 42, 'Rotisserie Chicken', 107, False, 0, 'Dinner'),\n",
       " ('A', 42, 'Muffins', 107, False, 0, 'Snack'),\n",
       " ('Z', 32, 'Batteries', 122, False, 0, 'other')]"
      ]
     },
     "execution_count": 12,
     "metadata": {},
     "output_type": "execute_result"
    }
   ],
   "source": [
    "# List of what I do not need\n",
    "fTuple = needTuple(False, sortedt)\n",
    "fTuple"
   ]
  },
  {
   "cell_type": "code",
   "execution_count": 13,
   "id": "34170109",
   "metadata": {},
   "outputs": [
    {
     "data": {
      "text/plain": [
       "[]"
      ]
     },
     "execution_count": 13,
     "metadata": {},
     "output_type": "execute_result"
    }
   ],
   "source": [
    "# List of what I need\n",
    "truetuple = needTuple(True, sortedt)\n",
    "truetuple"
   ]
  },
  {
   "cell_type": "code",
   "execution_count": 14,
   "id": "1a60f733",
   "metadata": {},
   "outputs": [
    {
     "data": {
      "text/plain": [
       "94"
      ]
     },
     "execution_count": 14,
     "metadata": {},
     "output_type": "execute_result"
    }
   ],
   "source": [
    "# size of list of stuff I do not need\n",
    "size(fTuple)"
   ]
  },
  {
   "cell_type": "code",
   "execution_count": 15,
   "id": "90bad6c1",
   "metadata": {},
   "outputs": [
    {
     "data": {
      "text/plain": [
       "0"
      ]
     },
     "execution_count": 15,
     "metadata": {},
     "output_type": "execute_result"
    }
   ],
   "source": [
    "# size of list of stuff I need\n",
    "size(truetuple)"
   ]
  },
  {
   "cell_type": "code",
   "execution_count": 17,
   "id": "a852e0ef",
   "metadata": {},
   "outputs": [],
   "source": [
    "# List of stuff in breakfast category \n",
    "bfast_list = categoryTuple(bfast, sortedt)\n",
    "fruit_list = categoryTuple(fruit, sortedt)\n",
    "lunch_list = categoryTuple(lunch, sortedt)\n",
    "dinner_list = categoryTuple(dinner, sortedt)\n",
    "snack_list = categoryTuple(snack, sortedt)\n",
    "mult_list = categoryTuple(mult, sortedt)\n",
    "burg_list = categoryTuple(burger, sortedt)\n",
    "hdog_list = categoryTuple(hdog, sortedt)\n",
    "chili_list = categoryTuple(chili, sortedt)\n",
    "roast_list = categoryTuple(roast, sortedt)\n",
    "drink_list = categoryTuple(drink, sortedt)\n",
    "Mw_list, taco_list = categoryTuple(mw, sortedt), categoryTuple(taco, sortedt)\n",
    "ss_list = categoryTuple(ss, sortedt)\n",
    "other_list = categoryTuple(other, sortedt)"
   ]
  },
  {
   "cell_type": "code",
   "execution_count": null,
   "id": "731b45e7",
   "metadata": {},
   "outputs": [],
   "source": []
  }
 ],
 "metadata": {
  "kernelspec": {
   "display_name": "Python 3 (ipykernel)",
   "language": "python",
   "name": "python3"
  },
  "language_info": {
   "codemirror_mode": {
    "name": "ipython",
    "version": 3
   },
   "file_extension": ".py",
   "mimetype": "text/x-python",
   "name": "python",
   "nbconvert_exporter": "python",
   "pygments_lexer": "ipython3",
   "version": "3.8.3"
  }
 },
 "nbformat": 4,
 "nbformat_minor": 5
}
